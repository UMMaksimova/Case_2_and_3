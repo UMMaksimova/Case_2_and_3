{
 "cells": [
  {
   "cell_type": "code",
   "execution_count": 5,
   "id": "ee529a2e-cb67-4c1b-b73e-043fcb74c8b3",
   "metadata": {
    "tags": []
   },
   "outputs": [
    {
     "name": "stdin",
     "output_type": "stream",
     "text": [
      "Введите день рождения:  03\n",
      "Введите месяц рождения:  06\n",
      "Введите год рождения:  2003\n"
     ]
    },
    {
     "name": "stdout",
     "output_type": "stream",
     "text": [
      "День недели: среда\n",
      "2003 год не был високосным\n",
      "Вам 21 лет\n",
      "Ваша дата рождения: ** ** ****\n"
     ]
    }
   ],
   "source": [
    "import datetime\n",
    "\n",
    "def get_weekday(day, month, year):\n",
    "    \"\"\"\n",
    "    Определяет день недели для заданной даты.\n",
    "    \"\"\"\n",
    "    a = (14 - month) // 12\n",
    "    y = year - a\n",
    "    m = month + 12 * a - 2\n",
    "    d = (day + y + y//4 - y//100 + y//400 + (31*m)//12) % 7\n",
    "    weekdays = ['понедельник', 'вторник', 'среда', 'четверг', 'пятница', 'суббота', 'воскресенье']\n",
    "    return weekdays[d]\n",
    "\n",
    "def is_leap_year(year):\n",
    "    \"\"\"\n",
    "    Определяет, является ли год високосным.\n",
    "    \"\"\"\n",
    "    return year % 4 == 0 and (year % 100 != 0 or year % 400 == 0)\n",
    "\n",
    "def get_age(day, month, year):\n",
    "    \"\"\"\n",
    "    Определяет возраст пользователя.\n",
    "    \"\"\"\n",
    "    today = datetime.date.today()\n",
    "    birthday = datetime.date(year, month, day)\n",
    "    age = today.year - birthday.year\n",
    "    if today.month < birthday.month or (today.month == birthday.month and today.day < birthday.day):\n",
    "        age -= 1\n",
    "    return age\n",
    "\n",
    "def format_date(day, month, year):\n",
    "    \"\"\"\n",
    "    Форматирует дату рождения в формате дд мм гггг, где цифры прорисованы звёздочками.\n",
    "    \"\"\"\n",
    "    date_str = f\"{day:0>2d} {month:0>2d} {year}\"\n",
    "    formatted_date = \"\"\n",
    "    for char in date_str:\n",
    "        if char.isdigit():\n",
    "            formatted_date += \"*\"\n",
    "        else:\n",
    "            formatted_date += char\n",
    "    return formatted_date\n",
    "\n",
    "# Запрашиваем у пользователя дату рождения\n",
    "day = int(input(\"Введите день рождения: \"))\n",
    "month = int(input(\"Введите месяц рождения: \"))\n",
    "year = int(input(\"Введите год рождения: \"))\n",
    "\n",
    "# Определяем день недели\n",
    "weekday = get_weekday(day, month, year)\n",
    "print(f\"День недели: {weekday}\")\n",
    "\n",
    "# Определяем, был ли год високосным\n",
    "if is_leap_year(year):\n",
    "    print(f\"{year} год был високосным\")\n",
    "else:\n",
    "    print(f\"{year} год не был високосным\")\n",
    "\n",
    "# Определяем возраст пользователя\n",
    "age = get_age(day, month, year)\n",
    "print(f\"Вам {age} лет\")\n",
    "\n",
    "# Форматируем дату рождения\n",
    "formatted_date = format_date(day, month, year)\n",
    "print(f\"Ваша дата рождения: {formatted_date}\")"
   ]
  },
  {
   "cell_type": "code",
   "execution_count": null,
   "id": "6689d63e-414d-4cbf-acdf-2a4855b74e5b",
   "metadata": {},
   "outputs": [],
   "source": []
  }
 ],
 "metadata": {
  "kernelspec": {
   "display_name": "Python 3 (ipykernel)",
   "language": "python",
   "name": "python3"
  },
  "language_info": {
   "codemirror_mode": {
    "name": "ipython",
    "version": 3
   },
   "file_extension": ".py",
   "mimetype": "text/x-python",
   "name": "python",
   "nbconvert_exporter": "python",
   "pygments_lexer": "ipython3",
   "version": "3.11.7"
  }
 },
 "nbformat": 4,
 "nbformat_minor": 5
}
