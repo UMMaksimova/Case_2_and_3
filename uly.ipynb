import datetime

def get_weekday(day, month, year):
    """
    Определяет день недели для заданной даты.
    """
    a = (14 - month) // 12
    y = year - a
    m = month + 12 * a - 2
    d = (day + y + y//4 - y//100 + y//400 + (31*m)//12) % 7
    weekdays = ['понедельник', 'вторник', 'среда', 'четверг', 'пятница', 'суббота', 'воскресенье']
    return weekdays[d]

def is_leap_year(year):
    """
    Определяет, является ли год високосным.
    """
    return year % 4 == 0 and (year % 100 != 0 or year % 400 == 0)

def get_age(day, month, year):
    """
    Определяет возраст пользователя.
    """
    today = datetime.date.today()
    birthday = datetime.date(year, month, day)
    age = today.year - birthday.year
    if today.month < birthday.month or (today.month == birthday.month and today.day < birthday.day):
        age -= 1
    return age

def format_date(day, month, year):
    """
    Форматирует дату рождения в формате дд мм гггг, где цифры прорисованы звёздочками.
    """
    date_str = f"{day:0>2d} {month:0>2d} {year}"
    formatted_date = ""
    for char in date_str:
        if char.isdigit():
            formatted_date += "*"
        else:
            formatted_date += char
    return formatted_date

# Запрашиваем у пользователя дату рождения
day = int(input("Введите день рождения: "))
month = int(input("Введите месяц рождения: "))
year = int(input("Введите год рождения: "))

# Определяем день недели
weekday = get_weekday(day, month, year)
print(f"День недели: {weekday}")

# Определяем, был ли год високосным
if is_leap_year(year):
    print(f"{year} год был високосным")
else:
    print(f"{year} год не был високосным")

# Определяем возраст пользователя
age = get_age(day, month, year)
print(f"Вам {age} лет")

# Форматируем дату рождения
formatted_date = format_date(day, month, year)
print(f"Ваша дата рождения: {formatted_date}")